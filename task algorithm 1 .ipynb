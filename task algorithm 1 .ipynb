{
 "cells": [
  {
   "cell_type": "code",
   "execution_count": 5,
   "id": "50024814",
   "metadata": {},
   "outputs": [
    {
     "name": "stdout",
     "output_type": "stream",
     "text": [
      "The unsorted arr is: [10, 5, 13, 8, 2]\n",
      "The sorted arr is: [10, 2, 5, 13, 8]\n"
     ]
    }
   ],
   "source": [
    "# creating a function for insertion  \n",
    "def insertion_sort(arr):  \n",
    "  \n",
    "        # Outer loop to traverse through 1 to len(arr)  \n",
    "        for i in range(1, len(arr)):  \n",
    "  \n",
    "            value = arr[i]  \n",
    "  \n",
    "            # Move elements of arr[0..i-1], that are  \n",
    "            # greater than value, to one position ahead  \n",
    "            # of their current position  \n",
    "            j = i - 1  \n",
    "            while j >= 0 and value < list1[j]:  \n",
    "                arr[j + 1] = arr[j]  \n",
    "                j -= 1  \n",
    "            arr[j + 1] = value  \n",
    "        return arr  \n",
    "            # Driver code to test above  \n",
    "  \n",
    "arr = [10, 5, 13, 8, 2]  \n",
    "print(\"The unsorted arr is:\", arr)  \n",
    "  \n",
    "print(\"The sorted arr is:\", insertion_sort(arr))  \n",
    "\n",
    "\n",
    "\n"
   ]
  },
  {
   "cell_type": "code",
   "execution_count": null,
   "id": "b0ac51de",
   "metadata": {},
   "outputs": [],
   "source": []
  }
 ],
 "metadata": {
  "kernelspec": {
   "display_name": "Python 3 (ipykernel)",
   "language": "python",
   "name": "python3"
  },
  "language_info": {
   "codemirror_mode": {
    "name": "ipython",
    "version": 3
   },
   "file_extension": ".py",
   "mimetype": "text/x-python",
   "name": "python",
   "nbconvert_exporter": "python",
   "pygments_lexer": "ipython3",
   "version": "3.9.7"
  }
 },
 "nbformat": 4,
 "nbformat_minor": 5
}
